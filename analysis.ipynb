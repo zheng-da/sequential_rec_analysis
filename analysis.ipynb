{
 "cells": [
  {
   "cell_type": "code",
   "execution_count": 2,
   "metadata": {},
   "outputs": [],
   "source": [
    "import numpy as np\n",
    "from scipy import sparse as spsp"
   ]
  },
  {
   "cell_type": "markdown",
   "metadata": {},
   "source": [
    "Load and construct user-movie sparse matrix."
   ]
  },
  {
   "cell_type": "code",
   "execution_count": 15,
   "metadata": {},
   "outputs": [
    {
     "name": "stdout",
     "output_type": "stream",
     "text": [
      "1 6040 1000209 6040\n",
      "1 3952 1000209 3706\n"
     ]
    }
   ],
   "source": [
    "f = open(\"ml-1m/ratings.dat\", \"r\")\n",
    "user_ids = []\n",
    "movie_ids = []\n",
    "seq_nums = []\n",
    "for line in f.readlines():\n",
    "    line = line.rstrip()\n",
    "    user_id, movie_id, _, seq_num = line.split('::')\n",
    "    user_ids.append(int(user_id))\n",
    "    movie_ids.append(int(movie_id))\n",
    "    seq_nums.append(int(seq_num))\n",
    "num_movies = int(np.max(movie_ids) + 1)\n",
    "print(np.min(user_ids), np.max(user_ids), len(user_ids), len(np.unique(user_ids)))\n",
    "print(np.min(movie_ids), np.max(movie_ids), len(movie_ids), len(np.unique(movie_ids)))"
   ]
  },
  {
   "cell_type": "markdown",
   "metadata": {},
   "source": [
    "Construct user activity sequences."
   ]
  },
  {
   "cell_type": "code",
   "execution_count": 12,
   "metadata": {},
   "outputs": [],
   "source": [
    "spm = spsp.csr_matrix((seq_nums, (user_ids, movie_ids)))\n",
    "is_sorted = lambda a: np.all(a[:-1] <= a[1:])\n",
    "user_seqs = {}\n",
    "for i in range(spm.shape[0]):\n",
    "    start = spm.indptr[i]\n",
    "    end = spm.indptr[i + 1]\n",
    "    if end > start:\n",
    "        movies = spm.indices[start:end]\n",
    "        seqs = spm.data[start:end]\n",
    "        idx = np.argsort(seqs)\n",
    "        movies = movies[idx]\n",
    "        seqs = seqs[idx]\n",
    "        assert is_sorted(seqs)\n",
    "        user_seqs[i] = (movies, seqs)"
   ]
  },
  {
   "cell_type": "markdown",
   "metadata": {},
   "source": [
    "Construct item sparse matrix (two items are connected if an item always appears before the other one)."
   ]
  },
  {
   "cell_type": "code",
   "execution_count": 76,
   "metadata": {},
   "outputs": [],
   "source": [
    "def get_item_transit_matrix(user_seqs, k, permute):\n",
    "    item_pre = []\n",
    "    item_post = []\n",
    "    for key in user_seqs:\n",
    "        movies, _ = user_seqs[key]\n",
    "        if permute:\n",
    "            movies = np.random.permutation(movies)\n",
    "        for i in range(len(movies) - k):\n",
    "            item_pre.append(movies[i])\n",
    "            item_post.append(movies[i + k])\n",
    "    item_spm = spsp.csr_matrix((np.ones(shape=(len(item_pre),)), (item_pre, item_post)), shape=(num_movies, num_movies))\n",
    "    \n",
    "    s = np.sum(item_spm, axis=1)\n",
    "    s[s == 0] = 1\n",
    "    transit_spm = item_spm / s\n",
    "    return transit_spm, item_spm"
   ]
  },
  {
   "cell_type": "code",
   "execution_count": 77,
   "metadata": {},
   "outputs": [],
   "source": [
    "transit_spm, item_spm = get_item_transit_matrix(user_seqs, 1, False)\n",
    "rand_transit_spms = []\n",
    "for i in range(2):\n",
    "    rand_transit_spm, rand_item_spm = get_item_transit_matrix(user_seqs, 1, True)\n",
    "    rand_transit_spms.append(rand_transit_spm)"
   ]
  },
  {
   "cell_type": "code",
   "execution_count": 78,
   "metadata": {},
   "outputs": [
    {
     "name": "stdout",
     "output_type": "stream",
     "text": [
      "108043 3702.0000000000014\n",
      "759504 3706.0000000000014\n"
     ]
    }
   ],
   "source": [
    "print(np.sum(transit_spm > 0), np.sum(transit_spm))\n",
    "print(np.sum(rand_transit_spm > 0), np.sum(rand_transit_spm))"
   ]
  },
  {
   "cell_type": "code",
   "execution_count": 79,
   "metadata": {},
   "outputs": [
    {
     "data": {
      "text/plain": [
       "7259.487802886655"
      ]
     },
     "execution_count": 79,
     "metadata": {},
     "output_type": "execute_result"
    }
   ],
   "source": [
    "np.sum(np.abs(transit_spm - rand_transit_spm))"
   ]
  },
  {
   "cell_type": "code",
   "execution_count": 80,
   "metadata": {},
   "outputs": [
    {
     "data": {
      "text/plain": [
       "6435.064699425198"
      ]
     },
     "execution_count": 80,
     "metadata": {},
     "output_type": "execute_result"
    }
   ],
   "source": [
    "np.sum(np.abs(rand_transit_spms[0] - rand_transit_spms[1]))"
   ]
  },
  {
   "cell_type": "code",
   "execution_count": 81,
   "metadata": {},
   "outputs": [
    {
     "name": "stdout",
     "output_type": "stream",
     "text": [
      "[2. 1. 3. ... 1. 1. 1.]\n"
     ]
    }
   ],
   "source": [
    "print(rand_item_spm.data)"
   ]
  },
  {
   "cell_type": "code",
   "execution_count": 83,
   "metadata": {},
   "outputs": [
    {
     "name": "stdout",
     "output_type": "stream",
     "text": [
      "994169.0\n",
      "(array([610330, 140420,   8209,    539,      6]), array([ 1,  2,  5, 10, 20, 30]))\n",
      "(array([49914, 28709, 12047,  7697,  3014,  4942,  1151]), array([  1,   2,   5,  10,  20,  30, 100, 200]))\n"
     ]
    }
   ],
   "source": [
    "print(np.sum(rand_item_spm))\n",
    "print(np.histogram(rand_item_spm.data, bins=[1, 2, 5, 10, 20, 30]))\n",
    "print(np.histogram(item_spm.data, bins=[1, 2, 5, 10, 20, 30, 100, 200]))"
   ]
  },
  {
   "cell_type": "code",
   "execution_count": null,
   "metadata": {},
   "outputs": [],
   "source": []
  }
 ],
 "metadata": {
  "kernelspec": {
   "display_name": "Python 3",
   "language": "python",
   "name": "python3"
  },
  "language_info": {
   "codemirror_mode": {
    "name": "ipython",
    "version": 3
   },
   "file_extension": ".py",
   "mimetype": "text/x-python",
   "name": "python",
   "nbconvert_exporter": "python",
   "pygments_lexer": "ipython3",
   "version": "3.6.9"
  }
 },
 "nbformat": 4,
 "nbformat_minor": 4
}
